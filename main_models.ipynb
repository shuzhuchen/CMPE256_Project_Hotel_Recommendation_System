{
 "cells": [
  {
   "cell_type": "code",
   "execution_count": 1,
   "metadata": {
    "id": "Tc_hP4wGaytj"
   },
   "outputs": [],
   "source": [
    "import pandas as pd\n",
    "import numpy as np\n",
    "import tensorflow as tf\n",
    "import matplotlib.pyplot as plt\n",
    "from sklearn.preprocessing import StandardScaler, LabelEncoder\n",
    "from sklearn.model_selection import StratifiedShuffleSplit\n",
    "from sklearn.metrics import mean_squared_error, mean_absolute_error, accuracy_score, recall_score, precision_score\n",
    "from keras.models import Model\n",
    "from keras.layers import Input, Embedding, Flatten, Multiply, Dense, Concatenate, Dropout\n",
    "from keras.optimizers import Adam\n",
    "from keras.callbacks import EarlyStopping\n"
   ]
  },
  {
   "cell_type": "code",
   "execution_count": 2,
   "metadata": {
    "colab": {
     "base_uri": "https://localhost:8080/"
    },
    "id": "L5ihHErL0Lhu",
    "outputId": "e6fed0fb-375e-41e0-915b-049d629a9812"
   },
   "outputs": [],
   "source": [
    "file_path = '../dataset/HotelRec_with_sentiment_scores.csv'"
   ]
  },
  {
   "cell_type": "code",
   "execution_count": 3,
   "metadata": {
    "id": "I5FLMsai2Z-9"
   },
   "outputs": [],
   "source": [
    "data = pd.read_csv(file_path)"
   ]
  },
  {
   "cell_type": "code",
   "execution_count": 4,
   "metadata": {
    "colab": {
     "base_uri": "https://localhost:8080/"
    },
    "id": "A26zyDtd_iV5",
    "outputId": "ab3d1150-6e34-4bf4-aeb4-042637493274"
   },
   "outputs": [
    {
     "data": {
      "text/plain": [
       "(12996750, 7)"
      ]
     },
     "execution_count": 4,
     "metadata": {},
     "output_type": "execute_result"
    }
   ],
   "source": [
    "data.shape"
   ]
  },
  {
   "cell_type": "code",
   "execution_count": 5,
   "metadata": {},
   "outputs": [
    {
     "name": "stdout",
     "output_type": "stream",
     "text": [
      "<class 'pandas.core.frame.DataFrame'>\n",
      "RangeIndex: 12996750 entries, 0 to 12996749\n",
      "Data columns (total 7 columns):\n",
      " #   Column         Dtype  \n",
      "---  ------         -----  \n",
      " 0   hotel_url      object \n",
      " 1   author         object \n",
      " 2   date           object \n",
      " 3   rating         float64\n",
      " 4   title          object \n",
      " 5   text           float64\n",
      " 6   property_dict  object \n",
      "dtypes: float64(2), object(5)\n",
      "memory usage: 694.1+ MB\n"
     ]
    }
   ],
   "source": [
    "data.info()"
   ]
  },
  {
   "cell_type": "code",
   "execution_count": 6,
   "metadata": {},
   "outputs": [],
   "source": [
    "data.rename(columns={'text': 'senti_score'}, inplace=True)"
   ]
  },
  {
   "cell_type": "code",
   "execution_count": 7,
   "metadata": {
    "colab": {
     "base_uri": "https://localhost:8080/",
     "height": 553
    },
    "id": "vfaQUbon2bjt",
    "outputId": "844a8361-b44a-4d1e-96ba-79637c177c6e"
   },
   "outputs": [
    {
     "data": {
      "text/html": [
       "<div>\n",
       "<style scoped>\n",
       "    .dataframe tbody tr th:only-of-type {\n",
       "        vertical-align: middle;\n",
       "    }\n",
       "\n",
       "    .dataframe tbody tr th {\n",
       "        vertical-align: top;\n",
       "    }\n",
       "\n",
       "    .dataframe thead th {\n",
       "        text-align: right;\n",
       "    }\n",
       "</style>\n",
       "<table border=\"1\" class=\"dataframe\">\n",
       "  <thead>\n",
       "    <tr style=\"text-align: right;\">\n",
       "      <th></th>\n",
       "      <th>hotel_url</th>\n",
       "      <th>author</th>\n",
       "      <th>date</th>\n",
       "      <th>rating</th>\n",
       "      <th>title</th>\n",
       "      <th>senti_score</th>\n",
       "      <th>property_dict</th>\n",
       "    </tr>\n",
       "  </thead>\n",
       "  <tbody>\n",
       "    <tr>\n",
       "      <th>0</th>\n",
       "      <td>Hotel_Review-g194775-d1121769-Reviews-Hotel_Ba...</td>\n",
       "      <td>ashleyn763</td>\n",
       "      <td>2014-10-01T00:00:00</td>\n",
       "      <td>5.0</td>\n",
       "      <td>Excellent in every way!</td>\n",
       "      <td>0.300000</td>\n",
       "      <td>{'service': 5.0, 'location': 5.0, 'value': 5.0}</td>\n",
       "    </tr>\n",
       "    <tr>\n",
       "      <th>1</th>\n",
       "      <td>Hotel_Review-g303503-d1735469-Reviews-Pousada_...</td>\n",
       "      <td>TwoMonkeysTravel</td>\n",
       "      <td>2017-03-01T00:00:00</td>\n",
       "      <td>5.0</td>\n",
       "      <td>Natural Luxury</td>\n",
       "      <td>0.267755</td>\n",
       "      <td>{'service': 5.0, 'sleep quality': 5.0, 'value'...</td>\n",
       "    </tr>\n",
       "    <tr>\n",
       "      <th>2</th>\n",
       "      <td>Hotel_Review-g303503-d1735469-Reviews-Pousada_...</td>\n",
       "      <td>heckfy</td>\n",
       "      <td>2016-01-01T00:00:00</td>\n",
       "      <td>5.0</td>\n",
       "      <td>Loved out stay, a lot of character</td>\n",
       "      <td>0.284058</td>\n",
       "      <td>{'rooms': 5.0, 'service': 5.0, 'cleanliness': ...</td>\n",
       "    </tr>\n",
       "    <tr>\n",
       "      <th>3</th>\n",
       "      <td>Hotel_Review-g303503-d1735469-Reviews-Pousada_...</td>\n",
       "      <td>TwoMonkeysTravel</td>\n",
       "      <td>2015-07-01T00:00:00</td>\n",
       "      <td>5.0</td>\n",
       "      <td>Really nice staff, yummy breakfast and the mon...</td>\n",
       "      <td>0.227083</td>\n",
       "      <td>{'rooms': 5.0, 'service': 5.0, 'value': 5.0}</td>\n",
       "    </tr>\n",
       "    <tr>\n",
       "      <th>4</th>\n",
       "      <td>Hotel_Review-g644280-d1821178-Reviews-Agrituri...</td>\n",
       "      <td>Kelleygirl2</td>\n",
       "      <td>2017-05-01T00:00:00</td>\n",
       "      <td>4.0</td>\n",
       "      <td>Gorgeous agriturismo with beautiful grounds an...</td>\n",
       "      <td>0.261111</td>\n",
       "      <td>{'location': 4.0}</td>\n",
       "    </tr>\n",
       "  </tbody>\n",
       "</table>\n",
       "</div>"
      ],
      "text/plain": [
       "                                           hotel_url            author  \\\n",
       "0  Hotel_Review-g194775-d1121769-Reviews-Hotel_Ba...        ashleyn763   \n",
       "1  Hotel_Review-g303503-d1735469-Reviews-Pousada_...  TwoMonkeysTravel   \n",
       "2  Hotel_Review-g303503-d1735469-Reviews-Pousada_...            heckfy   \n",
       "3  Hotel_Review-g303503-d1735469-Reviews-Pousada_...  TwoMonkeysTravel   \n",
       "4  Hotel_Review-g644280-d1821178-Reviews-Agrituri...       Kelleygirl2   \n",
       "\n",
       "                  date  rating  \\\n",
       "0  2014-10-01T00:00:00     5.0   \n",
       "1  2017-03-01T00:00:00     5.0   \n",
       "2  2016-01-01T00:00:00     5.0   \n",
       "3  2015-07-01T00:00:00     5.0   \n",
       "4  2017-05-01T00:00:00     4.0   \n",
       "\n",
       "                                               title  senti_score  \\\n",
       "0                            Excellent in every way!     0.300000   \n",
       "1                                     Natural Luxury     0.267755   \n",
       "2                 Loved out stay, a lot of character     0.284058   \n",
       "3  Really nice staff, yummy breakfast and the mon...     0.227083   \n",
       "4  Gorgeous agriturismo with beautiful grounds an...     0.261111   \n",
       "\n",
       "                                       property_dict  \n",
       "0    {'service': 5.0, 'location': 5.0, 'value': 5.0}  \n",
       "1  {'service': 5.0, 'sleep quality': 5.0, 'value'...  \n",
       "2  {'rooms': 5.0, 'service': 5.0, 'cleanliness': ...  \n",
       "3       {'rooms': 5.0, 'service': 5.0, 'value': 5.0}  \n",
       "4                                  {'location': 4.0}  "
      ]
     },
     "execution_count": 7,
     "metadata": {},
     "output_type": "execute_result"
    }
   ],
   "source": [
    "data.head()"
   ]
  },
  {
   "cell_type": "code",
   "execution_count": 8,
   "metadata": {},
   "outputs": [
    {
     "data": {
      "text/plain": [
       "count    1.299675e+07\n",
       "mean     2.598039e-01\n",
       "std      1.655226e-01\n",
       "min     -1.000000e+00\n",
       "25%      1.614419e-01\n",
       "50%      2.599421e-01\n",
       "75%      3.618519e-01\n",
       "max      1.000000e+00\n",
       "Name: senti_score, dtype: float64"
      ]
     },
     "execution_count": 8,
     "metadata": {},
     "output_type": "execute_result"
    }
   ],
   "source": [
    "data['senti_score'].describe()"
   ]
  },
  {
   "cell_type": "markdown",
   "metadata": {
    "id": "Cam3Tz08nlRG"
   },
   "source": [
    "## Data Preprocessing"
   ]
  },
  {
   "cell_type": "code",
   "execution_count": 9,
   "metadata": {
    "id": "legMoLRRn4dw"
   },
   "outputs": [],
   "source": [
    "# deleting unnnecessary columns\n",
    "data = data.drop(['title'], axis=1)\n",
    "\n",
    "# remove duplicates\n",
    "data.drop_duplicates(inplace=True)\n",
    "\n",
    "\n",
    "## handle author column\n",
    "# handling missing values, only this column has NaN\n",
    "data.dropna(subset=['author'], inplace=True) \n",
    "\n",
    "# remove the \"/undefined\" in the 'author'\n",
    "data = data[data['author'] != '/undefined']\n",
    "\n",
    "\n",
    "## handle date column\n",
    "# convert the date column to datetime format\n",
    "data['date'] = pd.to_datetime(data['date'])\n",
    "\n",
    "# overwrite the 'date' column with year only\n",
    "data['date'] = data['date'].dt.year\n",
    "data.rename(columns={'date': 'year'}, inplace=True)\n",
    "data['rating'] = data['rating'].astype(np.int64)"
   ]
  },
  {
   "cell_type": "markdown",
   "metadata": {},
   "source": [
    "### outlier detection"
   ]
  },
  {
   "cell_type": "code",
   "execution_count": 10,
   "metadata": {},
   "outputs": [
    {
     "name": "stdout",
     "output_type": "stream",
     "text": [
      "year\n",
      "2002        170\n",
      "2003       2742\n",
      "2004      11288\n",
      "2005      28566\n",
      "2006      55446\n",
      "2007      97264\n",
      "2008     134703\n",
      "2009     196845\n",
      "2010     298062\n",
      "2011     572241\n",
      "2012     990357\n",
      "2013    1270835\n",
      "2014    1463219\n",
      "2015    1722289\n",
      "2016    1793419\n",
      "2017    1564191\n",
      "2018    1267967\n",
      "2019     310202\n",
      "Name: count, dtype: int64\n"
     ]
    }
   ],
   "source": [
    "year_frequency_sorted = data['year'].value_counts().sort_index()\n",
    "print(year_frequency_sorted)"
   ]
  },
  {
   "cell_type": "code",
   "execution_count": 11,
   "metadata": {},
   "outputs": [
    {
     "data": {
      "image/png": "[encoded data removed]",
      "text/plain": [
       "<Figure size 640x480 with 1 Axes>"
      ]
     },
     "metadata": {},
     "output_type": "display_data"
    }
   ],
   "source": [
    "plt.boxplot(data['year'])\n",
    "plt.show()"
   ]
  },
  {
   "cell_type": "code",
   "execution_count": 12,
   "metadata": {},
   "outputs": [],
   "source": [
    "data = data[~data['year'].isin([2002, 2003, 2004, 2005, 2006])]"
   ]
  },
  {
   "cell_type": "markdown",
   "metadata": {},
   "source": [
    "### Extract Hotel Name"
   ]
  },
  {
   "cell_type": "code",
   "execution_count": 13,
   "metadata": {
    "id": "YSv3BPoUDDfj"
   },
   "outputs": [],
   "source": [
    "def extract_hotel_name(url):\n",
    "    # Split the string by \"Reviews-\" and take the second part\n",
    "    try:\n",
    "        hotel_part = url.split(\"Reviews-\")[1]\n",
    "        # Split by the first dash to isolate the hotel name part\n",
    "        hotel_name = hotel_part.split(\"-\")[0]\n",
    "        # Replace underscores with spaces for better readability\n",
    "        return hotel_name.replace(\"_\", \" \")\n",
    "    except IndexError:\n",
    "        return None\n",
    "# create a new column with the hotel name\n",
    "data['hotel_name'] = data['hotel_url'].apply(extract_hotel_name)"
   ]
  },
  {
   "cell_type": "markdown",
   "metadata": {},
   "source": [
    "### Encode Categorical Features"
   ]
  },
  {
   "cell_type": "code",
   "execution_count": 14,
   "metadata": {},
   "outputs": [],
   "source": [
    "label_encoder_author = LabelEncoder()\n",
    "label_encoder_hotel = LabelEncoder()\n",
    "data['author_id'] = label_encoder_author.fit_transform(data['author'])\n",
    "data['hotel_id'] = label_encoder_hotel.fit_transform(data['hotel_name'])"
   ]
  },
  {
   "cell_type": "code",
   "execution_count": 15,
   "metadata": {
    "colab": {
     "base_uri": "https://localhost:8080/"
    },
    "id": "U--qVQfeZM8_",
    "outputId": "9244f608-d2a6-4f4e-e1f4-27c790a0a458"
   },
   "outputs": [
    {
     "data": {
      "text/plain": [
       "325689"
      ]
     },
     "execution_count": 15,
     "metadata": {},
     "output_type": "execute_result"
    }
   ],
   "source": [
    "# count the number of hotels\n",
    "data['hotel_id'].nunique()"
   ]
  },
  {
   "cell_type": "code",
   "execution_count": 11,
   "metadata": {
    "id": "NGAua00yUdqE"
   },
   "outputs": [],
   "source": [
    "# # split out the different rating categories form \"property_dict\"\n",
    "# data['property_dict'] = data['property_dict'].apply(ast.literal_eval)\n",
    "# # extract the special ratings into individual columns\n",
    "# ratings_data = data['property_dict'].apply(pd.Series)\n",
    "\n",
    "# # join the extracted ratings to a new DataFrame which may use in NCF\n",
    "# data = data.join(ratings_data)"
   ]
  },
  {
   "cell_type": "markdown",
   "metadata": {
    "id": "HHVr5p-Zn3b2"
   },
   "source": [
    "## Clustering Analysis"
   ]
  },
  {
   "cell_type": "code",
   "execution_count": 16,
   "metadata": {
    "id": "KBgMl8Obn-vk"
   },
   "outputs": [],
   "source": [
    "from sklearn.cluster import KMeans\n",
    "from sklearn.decomposition import PCA"
   ]
  },
  {
   "cell_type": "code",
   "execution_count": 17,
   "metadata": {
    "id": "Fn5WB-nRGNxS"
   },
   "outputs": [],
   "source": [
    "clustering_features = ['senti_score', 'rating', 'year']\n",
    "X = data[clustering_features]"
   ]
  },
  {
   "cell_type": "code",
   "execution_count": 18,
   "metadata": {
    "colab": {
     "base_uri": "https://localhost:8080/",
     "height": 487
    },
    "id": "whl_92HdGc6x",
    "outputId": "e406dc5c-3d26-40c6-fbc5-87027ffbf200"
   },
   "outputs": [
    {
     "data": {
      "image/png": "[encoded data removed]",
      "text/plain": [
       "<Figure size 800x500 with 1 Axes>"
      ]
     },
     "metadata": {},
     "output_type": "display_data"
    }
   ],
   "source": [
    "inertia = []\n",
    "for k in range(1, 11):\n",
    "    kmeans = KMeans(n_clusters=k, random_state=42)\n",
    "    kmeans.fit(X)\n",
    "    inertia.append(kmeans.inertia_)\n",
    "\n",
    "plt.figure(figsize=(8, 5))\n",
    "plt.plot(range(1, 11), inertia, marker='o',color='skyblue')\n",
    "plt.title('Elbow Method')\n",
    "plt.xlabel('Number of Clusters')\n",
    "plt.ylabel('Inertia')\n",
    "plt.show()"
   ]
  },
  {
   "cell_type": "code",
   "execution_count": 19,
   "metadata": {
    "colab": {
     "base_uri": "https://localhost:8080/"
    },
    "id": "ldEL7kUoGsVg",
    "outputId": "2bfdafed-e1e7-4608-8f6d-f971aa3077ff"
   },
   "outputs": [
    {
     "name": "stdout",
     "output_type": "stream",
     "text": [
      "Clustering completed.\n"
     ]
    }
   ],
   "source": [
    "# Apply k-means clustering with optimal clusters\n",
    "optimal_clusters = 3 # Set based on elbow plot\n",
    "kmeans = KMeans(n_clusters=optimal_clusters, random_state=42)\n",
    "data['cluster'] = kmeans.fit_predict(X)\n",
    "print(\"Clustering completed.\")"
   ]
  },
  {
   "cell_type": "code",
   "execution_count": 20,
   "metadata": {
    "colab": {
     "base_uri": "https://localhost:8080/",
     "height": 487
    },
    "id": "OyrBp1pZGyiW",
    "outputId": "7a8388c3-53bb-41b5-aef7-72189c771710"
   },
   "outputs": [
    {
     "data": {
      "image/png": "[encoded data removed]",
      "text/plain": [
       "<Figure size 800x500 with 1 Axes>"
      ]
     },
     "metadata": {},
     "output_type": "display_data"
    }
   ],
   "source": [
    "# Dimensionality reduction for visualization\n",
    "pca = PCA(n_components=2)\n",
    "X_pca = pca.fit_transform(X)\n",
    "\n",
    "plt.figure(figsize=(8, 5))\n",
    "plt.scatter(X_pca[:, 0], X_pca[:, 1], c=data['cluster'], cmap='viridis', marker='o', alpha=0.7)\n",
    "plt.title('Cluster Visualization')\n",
    "plt.xlabel('PCA1')\n",
    "plt.ylabel('PCA2')\n",
    "plt.show()"
   ]
  },
  {
   "cell_type": "code",
   "execution_count": 21,
   "metadata": {},
   "outputs": [
    {
     "data": {
      "text/html": [
       "<div>\n",
       "<style scoped>\n",
       "    .dataframe tbody tr th:only-of-type {\n",
       "        vertical-align: middle;\n",
       "    }\n",
       "\n",
       "    .dataframe tbody tr th {\n",
       "        vertical-align: top;\n",
       "    }\n",
       "\n",
       "    .dataframe thead th {\n",
       "        text-align: right;\n",
       "    }\n",
       "</style>\n",
       "<table border=\"1\" class=\"dataframe\">\n",
       "  <thead>\n",
       "    <tr style=\"text-align: right;\">\n",
       "      <th></th>\n",
       "      <th>hotel_url</th>\n",
       "      <th>author</th>\n",
       "      <th>year</th>\n",
       "      <th>rating</th>\n",
       "      <th>senti_score</th>\n",
       "      <th>property_dict</th>\n",
       "      <th>hotel_name</th>\n",
       "      <th>author_id</th>\n",
       "      <th>hotel_id</th>\n",
       "      <th>cluster</th>\n",
       "    </tr>\n",
       "  </thead>\n",
       "  <tbody>\n",
       "    <tr>\n",
       "      <th>0</th>\n",
       "      <td>Hotel_Review-g194775-d1121769-Reviews-Hotel_Ba...</td>\n",
       "      <td>ashleyn763</td>\n",
       "      <td>2014</td>\n",
       "      <td>5</td>\n",
       "      <td>0.300000</td>\n",
       "      <td>{'service': 5.0, 'location': 5.0, 'value': 5.0}</td>\n",
       "      <td>Hotel Baltic</td>\n",
       "      <td>369752</td>\n",
       "      <td>129241</td>\n",
       "      <td>2</td>\n",
       "    </tr>\n",
       "    <tr>\n",
       "      <th>1</th>\n",
       "      <td>Hotel_Review-g303503-d1735469-Reviews-Pousada_...</td>\n",
       "      <td>TwoMonkeysTravel</td>\n",
       "      <td>2017</td>\n",
       "      <td>5</td>\n",
       "      <td>0.267755</td>\n",
       "      <td>{'service': 5.0, 'sleep quality': 5.0, 'value'...</td>\n",
       "      <td>Pousada Rumo dos Ventos</td>\n",
       "      <td>336642</td>\n",
       "      <td>238867</td>\n",
       "      <td>1</td>\n",
       "    </tr>\n",
       "    <tr>\n",
       "      <th>2</th>\n",
       "      <td>Hotel_Review-g303503-d1735469-Reviews-Pousada_...</td>\n",
       "      <td>heckfy</td>\n",
       "      <td>2016</td>\n",
       "      <td>5</td>\n",
       "      <td>0.284058</td>\n",
       "      <td>{'rooms': 5.0, 'service': 5.0, 'cleanliness': ...</td>\n",
       "      <td>Pousada Rumo dos Ventos</td>\n",
       "      <td>438884</td>\n",
       "      <td>238867</td>\n",
       "      <td>1</td>\n",
       "    </tr>\n",
       "    <tr>\n",
       "      <th>3</th>\n",
       "      <td>Hotel_Review-g303503-d1735469-Reviews-Pousada_...</td>\n",
       "      <td>TwoMonkeysTravel</td>\n",
       "      <td>2015</td>\n",
       "      <td>5</td>\n",
       "      <td>0.227083</td>\n",
       "      <td>{'rooms': 5.0, 'service': 5.0, 'value': 5.0}</td>\n",
       "      <td>Pousada Rumo dos Ventos</td>\n",
       "      <td>336642</td>\n",
       "      <td>238867</td>\n",
       "      <td>2</td>\n",
       "    </tr>\n",
       "    <tr>\n",
       "      <th>4</th>\n",
       "      <td>Hotel_Review-g644280-d1821178-Reviews-Agrituri...</td>\n",
       "      <td>Kelleygirl2</td>\n",
       "      <td>2017</td>\n",
       "      <td>4</td>\n",
       "      <td>0.261111</td>\n",
       "      <td>{'location': 4.0}</td>\n",
       "      <td>Agriturismi Il Castello La Grancia</td>\n",
       "      <td>194495</td>\n",
       "      <td>5613</td>\n",
       "      <td>1</td>\n",
       "    </tr>\n",
       "  </tbody>\n",
       "</table>\n",
       "</div>"
      ],
      "text/plain": [
       "                                           hotel_url            author  year  \\\n",
       "0  Hotel_Review-g194775-d1121769-Reviews-Hotel_Ba...        ashleyn763  2014   \n",
       "1  Hotel_Review-g303503-d1735469-Reviews-Pousada_...  TwoMonkeysTravel  2017   \n",
       "2  Hotel_Review-g303503-d1735469-Reviews-Pousada_...            heckfy  2016   \n",
       "3  Hotel_Review-g303503-d1735469-Reviews-Pousada_...  TwoMonkeysTravel  2015   \n",
       "4  Hotel_Review-g644280-d1821178-Reviews-Agrituri...       Kelleygirl2  2017   \n",
       "\n",
       "   rating  senti_score                                      property_dict  \\\n",
       "0       5     0.300000    {'service': 5.0, 'location': 5.0, 'value': 5.0}   \n",
       "1       5     0.267755  {'service': 5.0, 'sleep quality': 5.0, 'value'...   \n",
       "2       5     0.284058  {'rooms': 5.0, 'service': 5.0, 'cleanliness': ...   \n",
       "3       5     0.227083       {'rooms': 5.0, 'service': 5.0, 'value': 5.0}   \n",
       "4       4     0.261111                                  {'location': 4.0}   \n",
       "\n",
       "                           hotel_name  author_id  hotel_id  cluster  \n",
       "0                        Hotel Baltic     369752    129241        2  \n",
       "1             Pousada Rumo dos Ventos     336642    238867        1  \n",
       "2             Pousada Rumo dos Ventos     438884    238867        1  \n",
       "3             Pousada Rumo dos Ventos     336642    238867        2  \n",
       "4  Agriturismi Il Castello La Grancia     194495      5613        1  "
      ]
     },
     "execution_count": 21,
     "metadata": {},
     "output_type": "execute_result"
    }
   ],
   "source": [
    "data.head()"
   ]
  },
  {
   "cell_type": "code",
   "execution_count": 22,
   "metadata": {},
   "outputs": [],
   "source": [
    "data.to_csv('../dataset/HotelRec.csv', index=False, encoding='utf-8')"
   ]
  },
  {
   "cell_type": "markdown",
   "metadata": {
    "id": "YZ_q5YGOn_MM"
   },
   "source": [
    "## Recommendation Models"
   ]
  },
  {
   "cell_type": "markdown",
   "metadata": {},
   "source": [
    "### SVD Algorithm"
   ]
  },
  {
   "cell_type": "code",
   "execution_count": 23,
   "metadata": {},
   "outputs": [],
   "source": [
    "import tensorflow as tf\n",
    "from tensorflow.keras.models import Model\n",
    "from tensorflow.keras.layers import Input, Embedding, Flatten, Dense, Concatenate\n",
    "from sklearn.metrics import mean_squared_error, precision_score, recall_score, f1_score\n",
    "from surprise.model_selection import cross_validate, train_test_split, GridSearchCV\n",
    "from surprise.prediction_algorithms import SVD, KNNBasic, KNNWithZScore\n",
    "from surprise import SVD, Dataset, Reader, accuracy"
   ]
  },
  {
   "cell_type": "code",
   "execution_count": 24,
   "metadata": {},
   "outputs": [
    {
     "name": "stdout",
     "output_type": "stream",
     "text": [
      "Requirement already satisfied: scikit-surprise in /opt/anaconda3/lib/python3.12/site-packages (1.1.4)\n",
      "Requirement already satisfied: joblib>=1.2.0 in /opt/anaconda3/lib/python3.12/site-packages (from scikit-surprise) (1.4.2)\n",
      "Requirement already satisfied: numpy>=1.19.5 in /opt/anaconda3/lib/python3.12/site-packages (from scikit-surprise) (1.26.4)\n",
      "Requirement already satisfied: scipy>=1.6.0 in /opt/anaconda3/lib/python3.12/site-packages (from scikit-surprise) (1.13.1)\n"
     ]
    }
   ],
   "source": [
    "!pip install scikit-surprise"
   ]
  },
  {
   "cell_type": "code",
   "execution_count": 25,
   "metadata": {},
   "outputs": [],
   "source": [
    "path = \"../dataset/HotelRec.csv\"\n",
    "data = pd.read_csv(path)"
   ]
  },
  {
   "cell_type": "code",
   "execution_count": null,
   "metadata": {},
   "outputs": [],
   "source": [
    "def svd_for_each_cluster(data):\n",
    "\n",
    "    all_predictions = [] \n",
    "    \n",
    "    unique_clusters = data['cluster'].unique()\n",
    "    \n",
    "    for cluster in unique_clusters:\n",
    "        print(f\"Processing cluster: {cluster}\")\n",
    "        \n",
    "        cluster_data = data[data['cluster'] == cluster]\n",
    "        reader = Reader(rating_scale=(1, 5))\n",
    "        dataset = Dataset.load_from_df(cluster_data[['author_id', 'hotel_id', 'rating']], reader)\n",
    "        trainset, testset = train_test_split(dataset, test_size=0.2, random_state=42)\n",
    "        \n",
    "        algo = SVD(n_factors=100, lr_all=0.05, reg_all=0.1, biased=True)\n",
    "        algo.fit(trainset)\n",
    "        \n",
    "        # Predict on the test set\n",
    "        predictions = algo.test(testset)\n",
    "        all_predictions.extend(predictions)\n",
    "        \n",
    "        # Evaluate RMSE and MAE for the current cluster\n",
    "        print(f\"Cluster {cluster} RMSE:\")\n",
    "        accuracy.rmse(predictions, verbose=True)\n",
    "        print(f\"Cluster {cluster} MAE:\")\n",
    "        accuracy.mae(predictions, verbose=True)\n",
    "        \n",
    "        # Calculate accuracy\n",
    "        cluster_accuracy = calculate_accuracy(predictions, threshold=0.5)\n",
    "        print(f\"Cluster {cluster} Accuracy: {cluster_accuracy:.2f}%\")\n",
    "    \n",
    "    print(\"\\n\")\n",
    "    print(\"Calculating overall metrics...\")\n",
    "    overall_rmse = accuracy.rmse(all_predictions, verbose=True)\n",
    "    overall_mae = accuracy.mae(all_predictions, verbose=True)\n",
    "    overall_accuracy = calculate_accuracy(all_predictions, threshold=0.5)\n",
    "    \n",
    "    print(f\"Overall RMSE: {overall_rmse}\")\n",
    "    print(f\"Overall MAE: {overall_mae}\")\n",
    "    print(f\"Overall Accuracy: {overall_accuracy:.2f}%\")\n",
    "\n",
    "def calculate_accuracy(predictions, threshold=0.5):\n",
    "    correct_predictions = 0\n",
    "    for pred in predictions:\n",
    "        if abs(pred.r_ui - pred.est) <= threshold:\n",
    "            correct_predictions += 1\n",
    "    accuracy_percentage = (correct_predictions / len(predictions)) * 100\n",
    "    return accuracy_percentage"
   ]
  },
  {
   "cell_type": "code",
   "execution_count": 28,
   "metadata": {},
   "outputs": [
    {
     "name": "stdout",
     "output_type": "stream",
     "text": [
      "Processing cluster: 2\n",
      "Cluster 2 RMSE:\n",
      "RMSE: 0.9392\n",
      "Cluster 2 MAE:\n",
      "MAE:  0.7275\n",
      "Cluster 2 Accuracy: 42.84%\n",
      "Processing cluster: 1\n",
      "Cluster 1 RMSE:\n",
      "RMSE: 0.7986\n",
      "Cluster 1 MAE:\n",
      "MAE:  0.5876\n",
      "Cluster 1 Accuracy: 53.69%\n",
      "Processing cluster: 0\n",
      "Cluster 0 RMSE:\n",
      "RMSE: 0.8289\n",
      "Cluster 0 MAE:\n",
      "MAE:  0.6308\n",
      "Cluster 0 Accuracy: 48.94%\n",
      "\n",
      "\n",
      "Calculating overall metrics...\n",
      "RMSE: 0.8540\n",
      "MAE:  0.6445\n",
      "Overall RMSE: 0.8540148663292524\n",
      "Overall MAE: 0.6444852702997201\n",
      "Overall Accuracy: 48.87%\n"
     ]
    }
   ],
   "source": [
    "svd_for_each_cluster(data)"
   ]
  },
  {
   "cell_type": "markdown",
   "metadata": {},
   "source": [
    "### NCF Model"
   ]
  },
  {
   "cell_type": "code",
   "execution_count": 29,
   "metadata": {
    "colab": {
     "base_uri": "https://localhost:8080/"
    },
    "id": "bBy5aJiwPcaU",
    "outputId": "2e51aa02-91d4-4fc6-bdb1-dd3fb324444f"
   },
   "outputs": [
    {
     "name": "stdout",
     "output_type": "stream",
     "text": [
      "Cluster distribution in train_data:\n",
      "cluster\n",
      "1    3622103\n",
      "2    2941305\n",
      "0    2781867\n",
      "Name: count, dtype: int64\n",
      "\n",
      "Cluster distribution in test_data:\n",
      "cluster\n",
      "1    905526\n",
      "2    735326\n",
      "0    695467\n",
      "Name: count, dtype: int64\n"
     ]
    }
   ],
   "source": [
    "# stratified split to maintain cluster proportions in train and test sets\n",
    "sss = StratifiedShuffleSplit(n_splits=1, test_size=0.2, random_state=42)\n",
    "for train_index, test_index in sss.split(data, data['cluster']):\n",
    "    train_data = data.iloc[train_index]\n",
    "    test_data = data.iloc[test_index]\n",
    "\n",
    "train_cluster_counts = train_data['cluster'].value_counts()\n",
    "test_cluster_counts = test_data['cluster'].value_counts()\n",
    "\n",
    "print(\"Cluster distribution in train_data:\")\n",
    "print(train_cluster_counts)\n",
    "print(\"\\nCluster distribution in test_data:\")\n",
    "print(test_cluster_counts)"
   ]
  },
  {
   "cell_type": "code",
   "execution_count": null,
   "metadata": {
    "colab": {
     "base_uri": "https://localhost:8080/",
     "height": 211
    },
    "id": "YmMn7GDFGAVc",
    "outputId": "5477956f-477e-4e86-8aba-7c6fdd2c4ee6"
   },
   "outputs": [
    {
     "name": "stdout",
     "output_type": "stream",
     "text": [
      "Training model for cluster 2\n",
      "Epoch 1/10\n",
      "\u001b[1m45958/45958\u001b[0m \u001b[32m━━━━━━━━━━━━━━━━━━━━\u001b[0m\u001b[37m\u001b[0m \u001b[1m1382s\u001b[0m 30ms/step - loss: 1.6229 - root_mean_squared_error: 1.2358 - val_loss: 0.9519 - val_root_mean_squared_error: 0.9757\n",
      "Epoch 2/10\n",
      "\u001b[1m45958/45958\u001b[0m \u001b[32m━━━━━━━━━━━━━━━━━━━━\u001b[0m\u001b[37m\u001b[0m \u001b[1m1435s\u001b[0m 31ms/step - loss: 0.8521 - root_mean_squared_error: 0.9231 - val_loss: 0.8979 - val_root_mean_squared_error: 0.9476\n",
      "Epoch 3/10\n",
      "\u001b[1m45958/45958\u001b[0m \u001b[32m━━━━━━━━━━━━━━━━━━━━\u001b[0m\u001b[37m\u001b[0m \u001b[1m1416s\u001b[0m 31ms/step - loss: 0.7332 - root_mean_squared_error: 0.8562 - val_loss: 0.8931 - val_root_mean_squared_error: 0.9450\n",
      "Epoch 4/10\n",
      "\u001b[1m45958/45958\u001b[0m \u001b[32m━━━━━━━━━━━━━━━━━━━━\u001b[0m\u001b[37m\u001b[0m \u001b[1m1352s\u001b[0m 29ms/step - loss: 0.6734 - root_mean_squared_error: 0.8205 - val_loss: 0.9010 - val_root_mean_squared_error: 0.9492\n",
      "Epoch 5/10\n",
      "\u001b[1m45958/45958\u001b[0m \u001b[32m━━━━━━━━━━━━━━━━━━━━\u001b[0m\u001b[37m\u001b[0m \u001b[1m1347s\u001b[0m 29ms/step - loss: 0.6215 - root_mean_squared_error: 0.7883 - val_loss: 0.9154 - val_root_mean_squared_error: 0.9568\n",
      "Epoch 6/10\n",
      "\u001b[1m45958/45958\u001b[0m \u001b[32m━━━━━━━━━━━━━━━━━━━━\u001b[0m\u001b[37m\u001b[0m \u001b[1m1381s\u001b[0m 30ms/step - loss: 0.5698 - root_mean_squared_error: 0.7548 - val_loss: 0.9372 - val_root_mean_squared_error: 0.9681\n",
      "Model for Cluster 2 trained successfully.\n",
      "Training model for cluster 1\n",
      "Epoch 1/10\n",
      "\u001b[1m56596/56596\u001b[0m \u001b[32m━━━━━━━━━━━━━━━━━━━━\u001b[0m\u001b[37m\u001b[0m \u001b[1m1723s\u001b[0m 30ms/step - loss: 1.2986 - root_mean_squared_error: 1.0874 - val_loss: 0.6750 - val_root_mean_squared_error: 0.8216\n",
      "Epoch 2/10\n",
      "\u001b[1m56596/56596\u001b[0m \u001b[32m━━━━━━━━━━━━━━━━━━━━\u001b[0m\u001b[37m\u001b[0m \u001b[1m1727s\u001b[0m 31ms/step - loss: 0.6183 - root_mean_squared_error: 0.7863 - val_loss: 0.6449 - val_root_mean_squared_error: 0.8031\n",
      "Epoch 3/10\n",
      "\u001b[1m56596/56596\u001b[0m \u001b[32m━━━━━━━━━━━━━━━━━━━━\u001b[0m\u001b[37m\u001b[0m \u001b[1m1729s\u001b[0m 31ms/step - loss: 0.5520 - root_mean_squared_error: 0.7429 - val_loss: 0.6417 - val_root_mean_squared_error: 0.8011\n",
      "Epoch 4/10\n",
      "\u001b[1m56596/56596\u001b[0m \u001b[32m━━━━━━━━━━━━━━━━━━━━\u001b[0m\u001b[37m\u001b[0m \u001b[1m1747s\u001b[0m 31ms/step - loss: 0.5158 - root_mean_squared_error: 0.7181 - val_loss: 0.6486 - val_root_mean_squared_error: 0.8054\n",
      "Epoch 5/10\n",
      "\u001b[1m56596/56596\u001b[0m \u001b[32m━━━━━━━━━━━━━━━━━━━━\u001b[0m\u001b[37m\u001b[0m \u001b[1m1747s\u001b[0m 31ms/step - loss: 0.4816 - root_mean_squared_error: 0.6940 - val_loss: 0.6653 - val_root_mean_squared_error: 0.8157\n",
      "Epoch 6/10\n",
      "\u001b[1m56596/56596\u001b[0m \u001b[32m━━━━━━━━━━━━━━━━━━━━\u001b[0m\u001b[37m\u001b[0m \u001b[1m1743s\u001b[0m 31ms/step - loss: 0.4453 - root_mean_squared_error: 0.6673 - val_loss: 0.6753 - val_root_mean_squared_error: 0.8218\n",
      "Model for Cluster 1 trained successfully.\n",
      "Training model for cluster 0\n",
      "Epoch 1/10\n",
      "\u001b[1m43467/43467\u001b[0m \u001b[32m━━━━━━━━━━━━━━━━━━━━\u001b[0m\u001b[37m\u001b[0m \u001b[1m1334s\u001b[0m 31ms/step - loss: 1.4374 - root_mean_squared_error: 1.1430 - val_loss: 0.7226 - val_root_mean_squared_error: 0.8501\n",
      "Epoch 2/10\n",
      "\u001b[1m43467/43467\u001b[0m \u001b[32m━━━━━━━━━━━━━━━━━━━━\u001b[0m\u001b[37m\u001b[0m \u001b[1m1332s\u001b[0m 31ms/step - loss: 0.6618 - root_mean_squared_error: 0.8135 - val_loss: 0.6925 - val_root_mean_squared_error: 0.8322\n",
      "Epoch 3/10\n",
      "\u001b[1m43467/43467\u001b[0m \u001b[32m━━━━━━━━━━━━━━━━━━━━\u001b[0m\u001b[37m\u001b[0m \u001b[1m1337s\u001b[0m 31ms/step - loss: 0.5868 - root_mean_squared_error: 0.7660 - val_loss: 0.6880 - val_root_mean_squared_error: 0.8294\n",
      "Epoch 4/10\n",
      "\u001b[1m43467/43467\u001b[0m \u001b[32m━━━━━━━━━━━━━━━━━━━━\u001b[0m\u001b[37m\u001b[0m \u001b[1m1337s\u001b[0m 31ms/step - loss: 0.5471 - root_mean_squared_error: 0.7396 - val_loss: 0.6956 - val_root_mean_squared_error: 0.8340\n",
      "Epoch 5/10\n",
      "\u001b[1m43467/43467\u001b[0m \u001b[32m━━━━━━━━━━━━━━━━━━━━\u001b[0m\u001b[37m\u001b[0m \u001b[1m1347s\u001b[0m 31ms/step - loss: 0.5085 - root_mean_squared_error: 0.7131 - val_loss: 0.7107 - val_root_mean_squared_error: 0.8430\n",
      "Epoch 6/10\n",
      "\u001b[1m43467/43467\u001b[0m \u001b[32m━━━━━━━━━━━━━━━━━━━━\u001b[0m\u001b[37m\u001b[0m \u001b[1m1338s\u001b[0m 31ms/step - loss: 0.4660 - root_mean_squared_error: 0.6826 - val_loss: 0.7338 - val_root_mean_squared_error: 0.8566\n",
      "Model for Cluster 0 trained successfully.\n",
      "All models trained successfully.\n"
     ]
    }
   ],
   "source": [
    "# Defining the number of latent factors\n",
    "n_latent_factors = 16\n",
    "\n",
    "# Dictionary to store models for each cluster\n",
    "cluster_models = {}\n",
    "\n",
    "# Iterate over each cluster to train a separate model for each cluster\n",
    "for cluster in data['cluster'].unique():\n",
    "    print(f\"Training model for cluster {cluster}\")\n",
    "\n",
    "    # Filter the train and test data for the current cluster\n",
    "    cluster_train_data = train_data[train_data['cluster'] == cluster]\n",
    "    cluster_test_data = test_data[test_data['cluster'] == cluster]\n",
    "\n",
    "    # Extract author and hotel data\n",
    "    n_author = len(label_encoder_author.classes_)\n",
    "    n_hotel = len(label_encoder_hotel.classes_)\n",
    "\n",
    "    # Inputs\n",
    "    author_input = Input(shape=(1,), name='author_input')\n",
    "    hotel_input = Input(shape=(1,), name='hotel_input')\n",
    "\n",
    "    # Author embedding\n",
    "    author_embedding = Embedding(input_dim=n_author, output_dim=n_latent_factors,\n",
    "                                 name='author_embedding')(author_input)\n",
    "    author_flatten = Flatten(name='author_flatten')(author_embedding)\n",
    "\n",
    "    # Hotel embedding\n",
    "    hotel_embedding = Embedding(input_dim=n_hotel, output_dim=n_latent_factors,\n",
    "                                name='hotel_embedding')(hotel_input)\n",
    "    hotel_flatten = Flatten(name='hotel_flatten')(hotel_embedding)\n",
    "\n",
    "    # Element-wise product of author and hotel embedding\n",
    "    element_product = Multiply(name='element_product')([author_flatten, hotel_flatten])\n",
    "\n",
    "    # Concatenate for deep features\n",
    "    concat = Concatenate(name='concat')([author_flatten, hotel_flatten, element_product])\n",
    "    dense_1 = Dense(128, activation='relu', name='dense_1')(concat)\n",
    "    dropout_1 = Dropout(0.3)(dense_1)\n",
    "    dense_2 = Dense(64, activation='relu', name='dense_2')(dropout_1)\n",
    "    dropout_2 = Dropout(0.3)(dense_2)\n",
    "    dense_3 = Dense(32, activation='relu', name='dense_3')(dropout_2)\n",
    "\n",
    "    # Output layer\n",
    "    output = Dense(1, activation='linear', name='output')(dense_3)\n",
    "\n",
    "    # Create and compile the model\n",
    "    ncf_model = Model(inputs=[author_input, hotel_input], outputs=output)\n",
    "    ncf_model.compile(optimizer=Adam(learning_rate=0.0001), \n",
    "                      loss='mse', metrics=[tf.keras.metrics.RootMeanSquaredError()])\n",
    "\n",
    "    # Train the model with early stopping\n",
    "    early_stopping = EarlyStopping(monitor='val_loss', patience=3, restore_best_weights=True)\n",
    "    ncf_model.fit([cluster_train_data['author_id'], \n",
    "                   cluster_train_data['hotel_id']],\n",
    "                  cluster_train_data['rating'],\n",
    "                  validation_data=([cluster_test_data['author_id'], cluster_test_data['hotel_id']],\n",
    "                                   cluster_test_data['rating']),\n",
    "                  batch_size=64,\n",
    "                  epochs=10,\n",
    "                  verbose=1,\n",
    "                  callbacks=[early_stopping])\n",
    "\n",
    "    # Store the trained model for the current cluster\n",
    "    cluster_models[cluster] = ncf_model\n",
    "    print(f\"Model for Cluster {cluster} trained successfully.\")\n",
    "\n",
    "print(\"All models trained successfully.\")\n"
   ]
  },
  {
   "cell_type": "markdown",
   "metadata": {
    "id": "lVAT_IJYoE77"
   },
   "source": [
    "#### Model Validation and Performance Evaluation"
   ]
  },
  {
   "cell_type": "markdown",
   "metadata": {},
   "source": [
    "Compute Metrics for Each Cluster:\n",
    "\n",
    "evaluate each model independently to understand which cluster models perform well and which ones need improvement."
   ]
  },
  {
   "cell_type": "code",
   "execution_count": 98,
   "metadata": {},
   "outputs": [
    {
     "name": "stdout",
     "output_type": "stream",
     "text": [
      "\u001b[1m22979/22979\u001b[0m \u001b[32m━━━━━━━━━━━━━━━━━━━━\u001b[0m\u001b[37m\u001b[0m \u001b[1m7s\u001b[0m 295us/step\n",
      "Cluster 2 RMSE: 0.945043693836815\n",
      "\u001b[1m28298/28298\u001b[0m \u001b[32m━━━━━━━━━━━━━━━━━━━━\u001b[0m\u001b[37m\u001b[0m \u001b[1m9s\u001b[0m 306us/step\n",
      "Cluster 1 RMSE: 0.8010570176052669\n",
      "\u001b[1m21734/21734\u001b[0m \u001b[32m━━━━━━━━━━━━━━━━━━━━\u001b[0m\u001b[37m\u001b[0m \u001b[1m7s\u001b[0m 306us/step\n",
      "Cluster 0 RMSE: 0.8294466805568533\n"
     ]
    }
   ],
   "source": [
    "# Iterate over each cluster to evaluate model performance\n",
    "for cluster, model in cluster_models.items():\n",
    "    if cluster in test_data['cluster'].unique():\n",
    "        cluster_test_data = test_data[test_data['cluster'] == cluster]\n",
    "        if not cluster_test_data.empty:\n",
    "            y_pred = model.predict([cluster_test_data['author_id'], cluster_test_data['hotel_id']])\n",
    "            rmse = np.sqrt(mean_squared_error(cluster_test_data['rating'], y_pred))\n",
    "            print(f\"Cluster {cluster} RMSE: {rmse}\")\n",
    "    else:\n",
    "        print(f\"No test data available for Cluster {cluster}\")"
   ]
  },
  {
   "cell_type": "code",
   "execution_count": null,
   "metadata": {},
   "outputs": [
    {
     "name": "stdout",
     "output_type": "stream",
     "text": [
      "\u001b[1m22979/22979\u001b[0m \u001b[32m━━━━━━━━━━━━━━━━━━━━\u001b[0m\u001b[37m\u001b[0m \u001b[1m7s\u001b[0m 315us/step\n",
      "\u001b[1m28298/28298\u001b[0m \u001b[32m━━━━━━━━━━━━━━━━━━━━\u001b[0m\u001b[37m\u001b[0m \u001b[1m10s\u001b[0m 353us/step\n",
      "\u001b[1m21734/21734\u001b[0m \u001b[32m━━━━━━━━━━━━━━━━━━━━\u001b[0m\u001b[37m\u001b[0m \u001b[1m7s\u001b[0m 312us/step\n",
      "Overall RMSE: 0.8570888495240094\n"
     ]
    }
   ],
   "source": [
    "all_y_true = []\n",
    "all_y_pred = []\n",
    "\n",
    "for cluster, model in cluster_models.items():\n",
    "    if cluster in test_data['cluster'].unique():\n",
    "        cluster_test_data = test_data[test_data['cluster'] == cluster]\n",
    "        if not cluster_test_data.empty:\n",
    "            y_pred = model.predict([cluster_test_data['author_id'], cluster_test_data['hotel_id']])\n",
    "            all_y_true.extend(cluster_test_data['rating'].tolist())\n",
    "            all_y_pred.extend(y_pred.flatten().tolist())\n",
    "\n",
    "overall_rmse = np.sqrt(mean_squared_error(all_y_true, all_y_pred))\n",
    "print(f\"Overall RMSE: {overall_rmse}\")"
   ]
  },
  {
   "cell_type": "markdown",
   "metadata": {},
   "source": [
    "### Hybrid Recommendation Model"
   ]
  },
  {
   "cell_type": "markdown",
   "metadata": {},
   "source": [
    "Combine Collaborative Filtering with Content Features"
   ]
  },
  {
   "cell_type": "code",
   "execution_count": 16,
   "metadata": {},
   "outputs": [
    {
     "name": "stdout",
     "output_type": "stream",
     "text": [
      "Training hybrid recommendation model for cluster 2\n",
      "Epoch 1/10\n",
      "\u001b[1m45958/45958\u001b[0m \u001b[32m━━━━━━━━━━━━━━━━━━━━\u001b[0m\u001b[37m\u001b[0m \u001b[1m710s\u001b[0m 15ms/step - loss: 392.4316 - root_mean_squared_error: 15.7564 - val_loss: 0.8726 - val_root_mean_squared_error: 0.9341\n",
      "Epoch 2/10\n",
      "\u001b[1m45958/45958\u001b[0m \u001b[32m━━━━━━━━━━━━━━━━━━━━\u001b[0m\u001b[37m\u001b[0m \u001b[1m705s\u001b[0m 15ms/step - loss: 0.7502 - root_mean_squared_error: 0.8660 - val_loss: 0.7633 - val_root_mean_squared_error: 0.8737\n",
      "Epoch 3/10\n",
      "\u001b[1m45958/45958\u001b[0m \u001b[32m━━━━━━━━━━━━━━━━━━━━\u001b[0m\u001b[37m\u001b[0m \u001b[1m696s\u001b[0m 15ms/step - loss: 0.6067 - root_mean_squared_error: 0.7789 - val_loss: 0.7743 - val_root_mean_squared_error: 0.8800\n",
      "Epoch 4/10\n",
      "\u001b[1m45958/45958\u001b[0m \u001b[32m━━━━━━━━━━━━━━━━━━━━\u001b[0m\u001b[37m\u001b[0m \u001b[1m770s\u001b[0m 17ms/step - loss: 0.5539 - root_mean_squared_error: 0.7443 - val_loss: 0.6853 - val_root_mean_squared_error: 0.8278\n",
      "Epoch 5/10\n",
      "\u001b[1m45958/45958\u001b[0m \u001b[32m━━━━━━━━━━━━━━━━━━━━\u001b[0m\u001b[37m\u001b[0m \u001b[1m723s\u001b[0m 16ms/step - loss: 0.5256 - root_mean_squared_error: 0.7250 - val_loss: 0.7063 - val_root_mean_squared_error: 0.8404\n",
      "Epoch 6/10\n",
      "\u001b[1m45958/45958\u001b[0m \u001b[32m━━━━━━━━━━━━━━━━━━━━\u001b[0m\u001b[37m\u001b[0m \u001b[1m750s\u001b[0m 16ms/step - loss: 0.5075 - root_mean_squared_error: 0.7124 - val_loss: 0.6977 - val_root_mean_squared_error: 0.8353\n",
      "Epoch 7/10\n",
      "\u001b[1m45958/45958\u001b[0m \u001b[32m━━━━━━━━━━━━━━━━━━━━\u001b[0m\u001b[37m\u001b[0m \u001b[1m763s\u001b[0m 17ms/step - loss: 0.4951 - root_mean_squared_error: 0.7036 - val_loss: 0.7019 - val_root_mean_squared_error: 0.8378\n",
      "Hybrid recommendation model for Cluster 2 trained successfully.\n",
      "Training hybrid recommendation model for cluster 1\n",
      "Epoch 1/10\n",
      "\u001b[1m56596/56596\u001b[0m \u001b[32m━━━━━━━━━━━━━━━━━━━━\u001b[0m\u001b[37m\u001b[0m \u001b[1m1029s\u001b[0m 18ms/step - loss: 671.3957 - root_mean_squared_error: 19.9113 - val_loss: 0.8630 - val_root_mean_squared_error: 0.9290\n",
      "Epoch 2/10\n",
      "\u001b[1m56596/56596\u001b[0m \u001b[32m━━━━━━━━━━━━━━━━━━━━\u001b[0m\u001b[37m\u001b[0m \u001b[1m882s\u001b[0m 16ms/step - loss: 0.5358 - root_mean_squared_error: 0.7319 - val_loss: 0.5347 - val_root_mean_squared_error: 0.7313\n",
      "Epoch 3/10\n",
      "\u001b[1m56596/56596\u001b[0m \u001b[32m━━━━━━━━━━━━━━━━━━━━\u001b[0m\u001b[37m\u001b[0m \u001b[1m886s\u001b[0m 16ms/step - loss: 0.4535 - root_mean_squared_error: 0.6734 - val_loss: 0.5204 - val_root_mean_squared_error: 0.7214\n",
      "Epoch 4/10\n",
      "\u001b[1m56596/56596\u001b[0m \u001b[32m━━━━━━━━━━━━━━━━━━━━\u001b[0m\u001b[37m\u001b[0m \u001b[1m887s\u001b[0m 16ms/step - loss: 0.4232 - root_mean_squared_error: 0.6506 - val_loss: 0.5326 - val_root_mean_squared_error: 0.7298\n",
      "Epoch 5/10\n",
      "\u001b[1m56596/56596\u001b[0m \u001b[32m━━━━━━━━━━━━━━━━━━━━\u001b[0m\u001b[37m\u001b[0m \u001b[1m896s\u001b[0m 16ms/step - loss: 0.4078 - root_mean_squared_error: 0.6386 - val_loss: 0.5148 - val_root_mean_squared_error: 0.7175\n",
      "Epoch 6/10\n",
      "\u001b[1m56596/56596\u001b[0m \u001b[32m━━━━━━━━━━━━━━━━━━━━\u001b[0m\u001b[37m\u001b[0m \u001b[1m907s\u001b[0m 16ms/step - loss: 0.3976 - root_mean_squared_error: 0.6305 - val_loss: 0.5014 - val_root_mean_squared_error: 0.7081\n",
      "Epoch 7/10\n",
      "\u001b[1m56596/56596\u001b[0m \u001b[32m━━━━━━━━━━━━━━━━━━━━\u001b[0m\u001b[37m\u001b[0m \u001b[1m883s\u001b[0m 16ms/step - loss: 0.3902 - root_mean_squared_error: 0.6246 - val_loss: 0.5291 - val_root_mean_squared_error: 0.7274\n",
      "Epoch 8/10\n",
      "\u001b[1m56596/56596\u001b[0m \u001b[32m━━━━━━━━━━━━━━━━━━━━\u001b[0m\u001b[37m\u001b[0m \u001b[1m891s\u001b[0m 16ms/step - loss: 0.3865 - root_mean_squared_error: 0.6217 - val_loss: 0.5339 - val_root_mean_squared_error: 0.7307\n",
      "Epoch 9/10\n",
      "\u001b[1m56596/56596\u001b[0m \u001b[32m━━━━━━━━━━━━━━━━━━━━\u001b[0m\u001b[37m\u001b[0m \u001b[1m883s\u001b[0m 16ms/step - loss: 0.3831 - root_mean_squared_error: 0.6189 - val_loss: 0.5122 - val_root_mean_squared_error: 0.7157\n",
      "Hybrid recommendation model for Cluster 1 trained successfully.\n",
      "Training hybrid recommendation model for cluster 0\n",
      "Epoch 1/10\n",
      "\u001b[1m43467/43467\u001b[0m \u001b[32m━━━━━━━━━━━━━━━━━━━━\u001b[0m\u001b[37m\u001b[0m \u001b[1m714s\u001b[0m 16ms/step - loss: 592.8224 - root_mean_squared_error: 19.2181 - val_loss: 1.8715 - val_root_mean_squared_error: 1.3680\n",
      "Epoch 2/10\n",
      "\u001b[1m43467/43467\u001b[0m \u001b[32m━━━━━━━━━━━━━━━━━━━━\u001b[0m\u001b[37m\u001b[0m \u001b[1m681s\u001b[0m 16ms/step - loss: 0.8468 - root_mean_squared_error: 0.9196 - val_loss: 1.4341 - val_root_mean_squared_error: 1.1975\n",
      "Epoch 3/10\n",
      "\u001b[1m43467/43467\u001b[0m \u001b[32m━━━━━━━━━━━━━━━━━━━━\u001b[0m\u001b[37m\u001b[0m \u001b[1m780s\u001b[0m 18ms/step - loss: 0.5441 - root_mean_squared_error: 0.7376 - val_loss: 1.2653 - val_root_mean_squared_error: 1.1248\n",
      "Epoch 4/10\n",
      "\u001b[1m43467/43467\u001b[0m \u001b[32m━━━━━━━━━━━━━━━━━━━━\u001b[0m\u001b[37m\u001b[0m \u001b[1m692s\u001b[0m 16ms/step - loss: 0.4934 - root_mean_squared_error: 0.7024 - val_loss: 0.9082 - val_root_mean_squared_error: 0.9530\n",
      "Epoch 5/10\n",
      "\u001b[1m43467/43467\u001b[0m \u001b[32m━━━━━━━━━━━━━━━━━━━━\u001b[0m\u001b[37m\u001b[0m \u001b[1m696s\u001b[0m 16ms/step - loss: 0.4664 - root_mean_squared_error: 0.6829 - val_loss: 0.8633 - val_root_mean_squared_error: 0.9291\n",
      "Epoch 6/10\n",
      "\u001b[1m43467/43467\u001b[0m \u001b[32m━━━━━━━━━━━━━━━━━━━━\u001b[0m\u001b[37m\u001b[0m \u001b[1m703s\u001b[0m 16ms/step - loss: 0.4425 - root_mean_squared_error: 0.6652 - val_loss: 0.7555 - val_root_mean_squared_error: 0.8692\n",
      "Epoch 7/10\n",
      "\u001b[1m43467/43467\u001b[0m \u001b[32m━━━━━━━━━━━━━━━━━━━━\u001b[0m\u001b[37m\u001b[0m \u001b[1m702s\u001b[0m 16ms/step - loss: 0.4308 - root_mean_squared_error: 0.6564 - val_loss: 0.6985 - val_root_mean_squared_error: 0.8358\n",
      "Epoch 8/10\n",
      "\u001b[1m43467/43467\u001b[0m \u001b[32m━━━━━━━━━━━━━━━━━━━━\u001b[0m\u001b[37m\u001b[0m \u001b[1m713s\u001b[0m 16ms/step - loss: 0.4229 - root_mean_squared_error: 0.6503 - val_loss: 0.6626 - val_root_mean_squared_error: 0.8140\n",
      "Epoch 9/10\n",
      "\u001b[1m43467/43467\u001b[0m \u001b[32m━━━━━━━━━━━━━━━━━━━━\u001b[0m\u001b[37m\u001b[0m \u001b[1m706s\u001b[0m 16ms/step - loss: 0.4176 - root_mean_squared_error: 0.6462 - val_loss: 0.6597 - val_root_mean_squared_error: 0.8122\n",
      "Epoch 10/10\n",
      "\u001b[1m43467/43467\u001b[0m \u001b[32m━━━━━━━━━━━━━━━━━━━━\u001b[0m\u001b[37m\u001b[0m \u001b[1m707s\u001b[0m 16ms/step - loss: 0.4131 - root_mean_squared_error: 0.6427 - val_loss: 0.7292 - val_root_mean_squared_error: 0.8539\n",
      "Hybrid recommendation model for Cluster 0 trained successfully.\n",
      "All hybrid recommendation models trained successfully.\n"
     ]
    }
   ],
   "source": [
    "# Number of latent factors for embeddings\n",
    "n_latent_factors = 8\n",
    "\n",
    "# Dictionary to store models for each cluster\n",
    "cluster_models = {}\n",
    "\n",
    "for cluster in data['cluster'].unique():\n",
    "    print(f\"Training hybrid recommendation model for cluster {cluster}\")\n",
    "\n",
    "    # Filter the train and test data for the current cluster\n",
    "    cluster_train_data = train_data[train_data['cluster'] == cluster]\n",
    "    cluster_test_data = test_data[test_data['cluster'] == cluster]\n",
    "\n",
    "    # Define the number of unique users and items\n",
    "    n_author = len(label_encoder_author.classes_)\n",
    "    n_hotel = len(label_encoder_hotel.classes_)\n",
    "\n",
    "    # Inputs for collaborative filtering part\n",
    "    author_input = Input(shape=(1,), name='author_input')\n",
    "    hotel_input = Input(shape=(1,), name='hotel_input')\n",
    "\n",
    "    # Author embedding\n",
    "    author_embedding = Embedding(input_dim=n_author, output_dim=n_latent_factors,\n",
    "                                 name='author_embedding')(author_input)\n",
    "    author_flatten = Flatten(name='author_flatten')(author_embedding)\n",
    "\n",
    "    # Hotel embedding\n",
    "    hotel_embedding = Embedding(input_dim=n_hotel, output_dim=n_latent_factors,\n",
    "                                name='hotel_embedding')(hotel_input)\n",
    "    hotel_flatten = Flatten(name='hotel_flatten')(hotel_embedding)\n",
    "\n",
    "    # Element-wise product of author and hotel embeddings\n",
    "    element_product = Multiply(name='element_product')([author_flatten, hotel_flatten])\n",
    "\n",
    "    # Inputs for content-based features\n",
    "    senti_score_input = Input(shape=(1,), name='senti_score_input')\n",
    "    year_input = Input(shape=(1,), name='year_input')\n",
    "\n",
    "    # Combine collaborative embeddings and content-based features\n",
    "    concat = Concatenate(name='concat')([author_flatten, hotel_flatten, element_product, senti_score_input, year_input])\n",
    "\n",
    "    # Add dense layers for learning from the combined feature space\n",
    "    dense_1 = Dense(128, activation='relu', name='dense_1')(concat)\n",
    "    dropout_1 = Dropout(0.3)(dense_1)\n",
    "    dense_2 = Dense(64, activation='relu', name='dense_2')(dropout_1)\n",
    "    dropout_2 = Dropout(0.3)(dense_2)\n",
    "    dense_3 = Dense(32, activation='relu', name='dense_3')(dropout_2)\n",
    "\n",
    "    # Output layer to predict ratings\n",
    "    output = Dense(1, activation='linear', name='output')(dense_3)\n",
    "\n",
    "    # Create and compile the hybrid recommendation model\n",
    "    hybrid_recommendation_model = Model(inputs=[author_input, hotel_input, senti_score_input, year_input], outputs=output)\n",
    "    hybrid_recommendation_model.compile(optimizer=Adam(learning_rate=0.0001), \n",
    "                                        loss='mse', metrics=[tf.keras.metrics.RootMeanSquaredError()])\n",
    "\n",
    "    # Train the hybrid model using early stopping\n",
    "    early_stopping = EarlyStopping(monitor='val_loss', patience=3, restore_best_weights=True)\n",
    "    hybrid_recommendation_model.fit([cluster_train_data['author_id'], \n",
    "                                     cluster_train_data['hotel_id'], \n",
    "                                     cluster_train_data['senti_score'], \n",
    "                                     cluster_train_data['year']],\n",
    "                                     cluster_train_data['rating'],\n",
    "                                     validation_data=([cluster_test_data['author_id'], \n",
    "                                                       cluster_test_data['hotel_id'], \n",
    "                                                       cluster_test_data['senti_score'], \n",
    "                                                       cluster_test_data['year']],\n",
    "                                                      cluster_test_data['rating']),\n",
    "                                     batch_size=64,\n",
    "                                     epochs=10,\n",
    "                                     verbose=1,\n",
    "                                     callbacks=[early_stopping])\n",
    "\n",
    "    # Store the trained model for the current cluster\n",
    "    cluster_models[cluster] = hybrid_recommendation_model\n",
    "    print(f\"Hybrid recommendation model for Cluster {cluster} trained successfully.\")\n",
    "\n",
    "print(\"All hybrid recommendation models trained successfully.\")\n"
   ]
  },
  {
   "cell_type": "markdown",
   "metadata": {},
   "source": [
    "#### Model Validation and Performance Evaluation"
   ]
  },
  {
   "cell_type": "code",
   "execution_count": null,
   "metadata": {},
   "outputs": [
    {
     "name": "stdout",
     "output_type": "stream",
     "text": [
      "\u001b[1m22979/22979\u001b[0m \u001b[32m━━━━━━━━━━━━━━━━━━━━\u001b[0m\u001b[37m\u001b[0m \u001b[1m8s\u001b[0m 330us/step\n",
      "\u001b[1m28298/28298\u001b[0m \u001b[32m━━━━━━━━━━━━━━━━━━━━\u001b[0m\u001b[37m\u001b[0m \u001b[1m9s\u001b[0m 333us/step\n",
      "\u001b[1m21734/21734\u001b[0m \u001b[32m━━━━━━━━━━━━━━━━━━━━\u001b[0m\u001b[37m\u001b[0m \u001b[1m8s\u001b[0m 350us/step\n",
      "Overall RMSE for Hybrid Model: 0.7787190384231935\n"
     ]
    }
   ],
   "source": [
    "# DataFrames to store overall results\n",
    "all_true_ratings = []\n",
    "all_predictions = []\n",
    "\n",
    "# Iterate over each cluster and evaluate hybrid model performance\n",
    "for cluster, model in cluster_models.items():\n",
    "    # Filter test data for the current cluster\n",
    "    cluster_test_data = test_data[test_data['cluster'] == cluster]\n",
    "\n",
    "    if not cluster_test_data.empty:\n",
    "        # Prepare the input for the model\n",
    "        author_ids = cluster_test_data['author_id']\n",
    "        hotel_ids = cluster_test_data['hotel_id']\n",
    "        senti_scores = cluster_test_data['senti_score']\n",
    "        years = cluster_test_data['year']\n",
    "\n",
    "        # Predict the ratings using the current cluster model\n",
    "        y_pred = model.predict([author_ids, hotel_ids, senti_scores, years])\n",
    "\n",
    "        # Append the true ratings and predictions for overall performance calculation\n",
    "        all_true_ratings.extend(cluster_test_data['rating'])\n",
    "        all_predictions.extend(y_pred)\n",
    "\n",
    "# Calculate overall RMSE for the hybrid model\n",
    "hybrid_overall_rmse = np.sqrt(mean_squared_error(all_true_ratings, all_predictions))\n",
    "print(f\"Overall RMSE for Hybrid Model: {hybrid_overall_rmse}\")"
   ]
  },
  {
   "cell_type": "code",
   "execution_count": 23,
   "metadata": {},
   "outputs": [
    {
     "name": "stdout",
     "output_type": "stream",
     "text": [
      "\u001b[1m22979/22979\u001b[0m \u001b[32m━━━━━━━━━━━━━━━━━━━━\u001b[0m\u001b[37m\u001b[0m \u001b[1m8s\u001b[0m 363us/step\n",
      "\u001b[1m28298/28298\u001b[0m \u001b[32m━━━━━━━━━━━━━━━━━━━━\u001b[0m\u001b[37m\u001b[0m \u001b[1m10s\u001b[0m 342us/step\n",
      "\u001b[1m21734/21734\u001b[0m \u001b[32m━━━━━━━━━━━━━━━━━━━━\u001b[0m\u001b[37m\u001b[0m \u001b[1m7s\u001b[0m 337us/step\n"
     ]
    }
   ],
   "source": [
    "# DataFrames to store overall results\n",
    "all_true_ratings = []\n",
    "all_predictions = []\n",
    "\n",
    "# Iterate over each cluster and evaluate hybrid model performance\n",
    "for cluster, model in cluster_models.items():\n",
    "    # Filter test data for the current cluster\n",
    "    cluster_test_data = test_data[test_data['cluster'] == cluster]\n",
    "\n",
    "    if not cluster_test_data.empty:\n",
    "        # Prepare the input for the model\n",
    "        author_ids = cluster_test_data['author_id']\n",
    "        hotel_ids = cluster_test_data['hotel_id']\n",
    "        senti_scores = cluster_test_data['senti_score']\n",
    "        years = cluster_test_data['year']\n",
    "\n",
    "        # Predict the ratings using the current cluster model\n",
    "        y_pred = model.predict([author_ids, hotel_ids, senti_scores, years])\n",
    "        y_pred_rounded = np.rint(y_pred).clip(1, 5)  # Round and clip predictions to match the rating scale (1-5)\n",
    "\n",
    "        # Append the true ratings and predictions for overall performance calculation\n",
    "        all_true_ratings.extend(cluster_test_data['rating'])\n",
    "        all_predictions.extend(y_pred_rounded)"
   ]
  },
  {
   "cell_type": "code",
   "execution_count": 28,
   "metadata": {},
   "outputs": [
    {
     "name": "stdout",
     "output_type": "stream",
     "text": [
      "Overall MAE for Hybrid Model: 0.5827671649291043\n"
     ]
    }
   ],
   "source": [
    "# Calculate overall MAE for the hybrid model\n",
    "hybrid_overall_mae = mean_absolute_error(all_true_ratings, all_predictions)\n",
    "print(f\"Overall MAE for Hybrid Model: {hybrid_overall_mae}\")"
   ]
  },
  {
   "cell_type": "code",
   "execution_count": 29,
   "metadata": {},
   "outputs": [
    {
     "name": "stdout",
     "output_type": "stream",
     "text": [
      "Overall Accuracy for Hybrid Model: 0.4701699553870854\n",
      "Overall Recall for Hybrid Model: 0.3454366538496534\n",
      "Overall Precision for Hybrid Model: 0.3925684701855544\n"
     ]
    },
    {
     "name": "stderr",
     "output_type": "stream",
     "text": [
      "/opt/anaconda3/envs/CMPE256/lib/python3.12/site-packages/sklearn/metrics/_classification.py:1531: UndefinedMetricWarning: Precision is ill-defined and being set to 0.0 in labels with no predicted samples. Use `zero_division` parameter to control this behavior.\n",
      "  _warn_prf(average, modifier, f\"{metric.capitalize()} is\", len(result))\n"
     ]
    }
   ],
   "source": [
    "# Calculate accuracy for the hybrid model\n",
    "hybrid_overall_accuracy = accuracy_score(all_true_ratings, all_predictions)\n",
    "print(f\"Overall Accuracy for Hybrid Model: {hybrid_overall_accuracy}\")\n",
    "\n",
    "# Calculate recall for the hybrid model\n",
    "hybrid_overall_recall = recall_score(all_true_ratings, all_predictions, average='macro')\n",
    "print(f\"Overall Recall for Hybrid Model: {hybrid_overall_recall}\")\n",
    "\n",
    "# Calculate precision for the hybrid model\n",
    "hybrid_overall_precision = precision_score(all_true_ratings, all_predictions, average='macro')\n",
    "print(f\"Overall Precision for Hybrid Model: {hybrid_overall_precision}\")"
   ]
  }
 ],
 "metadata": {
  "accelerator": "GPU",
  "colab": {
   "gpuType": "T4",
   "provenance": []
  },
  "kernelspec": {
   "display_name": "Python 3",
   "language": "python",
   "name": "python3"
  },
  "language_info": {
   "codemirror_mode": {
    "name": "ipython",
    "version": 3
   },
   "file_extension": ".py",
   "mimetype": "text/x-python",
   "name": "python",
   "nbconvert_exporter": "python",
   "pygments_lexer": "ipython3",
   "version": "3.12.1"
  }
 },
 "nbformat": 4,
 "nbformat_minor": 0
}
