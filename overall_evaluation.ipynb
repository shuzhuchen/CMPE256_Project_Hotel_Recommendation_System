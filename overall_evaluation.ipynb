{
 "cells": [
  {
   "cell_type": "code",
   "execution_count": 8,
   "metadata": {},
   "outputs": [],
   "source": [
    "import numpy as np\n",
    "import pandas as pd\n",
    "from sklearn.metrics import mean_squared_error, mean_absolute_error, accuracy_score, precision_score, recall_score, f1_score\n",
    "from surprise import SVD, Dataset, Reader, accuracy\n",
    "from surprise.model_selection import train_test_split\n",
    "import tensorflow as tf\n",
    "from tensorflow.keras.models import Model\n",
    "from tensorflow.keras.layers import Input, Embedding, Flatten, Dense, Concatenate, Multiply, Dropout\n",
    "from tensorflow.keras.optimizers import Adam\n",
    "from tensorflow.keras.callbacks import EarlyStopping\n",
    "from sklearn.model_selection import StratifiedShuffleSplit\n",
    "import matplotlib.pyplot as plt\n",
    "import seaborn as sns"
   ]
  },
  {
   "cell_type": "code",
   "execution_count": null,
   "metadata": {},
   "outputs": [],
   "source": [
    "data = pd.read_csv(\"../dataset/HotelRec.csv\")"
   ]
  },
  {
   "cell_type": "markdown",
   "metadata": {},
   "source": [
    "### Overall Evaluation"
   ]
  },
  {
   "cell_type": "code",
   "execution_count": 9,
   "metadata": {},
   "outputs": [],
   "source": [
    "class HotelRecommendationAnalysis:\n",
    "    def __init__(self, data_path):\n",
    "        # Load data\n",
    "        self.data = pd.read_csv(data_path)\n",
    "        \n",
    "        # Encode categorical variables\n",
    "        self.label_encoder_author = LabelEncoder()\n",
    "        self.label_encoder_hotel = LabelEncoder()\n",
    "        \n",
    "        self.data['author_id'] = self.label_encoder_author.fit_transform(self.data['author_id'])\n",
    "        self.data['hotel_id'] = self.label_encoder_hotel.fit_transform(self.data['hotel_id'])\n",
    "        \n",
    "        # Stratified split\n",
    "        self.sss = StratifiedShuffleSplit(n_splits=1, test_size=0.2, random_state=42)\n",
    "        train_index, test_index = next(self.sss.split(self.data, self.data['cluster']))\n",
    "        \n",
    "        self.train_data = self.data.iloc[train_index]\n",
    "        self.test_data = self.data.iloc[test_index]\n",
    "        \n",
    "        # Initialize results storage\n",
    "        self.results = {}\n",
    "\n",
    "    def svd_evaluation(self):\n",
    "        \"\"\"Evaluate SVD for each cluster\"\"\"\n",
    "        results = {}\n",
    "        \n",
    "        for cluster in self.data['cluster'].unique():\n",
    "            # Filter data for the current cluster\n",
    "            cluster_data = self.data[self.data['cluster'] == cluster]\n",
    "            \n",
    "            # Surprise dataset preparation\n",
    "            reader = Reader(rating_scale=(1, 5))\n",
    "            dataset = Dataset.load_from_df(cluster_data[['author_id', 'hotel_id', 'rating']], reader)\n",
    "            \n",
    "            # Train-test split\n",
    "            trainset, testset = train_test_split(dataset, test_size=0.2, random_state=42)\n",
    "            \n",
    "            # SVD Algorithm\n",
    "            algo = SVD(n_factors=90, lr_all=0.05, reg_all=0.1, biased=True)\n",
    "            algo.fit(trainset)\n",
    "            \n",
    "            # Predictions\n",
    "            predictions = algo.test(testset)\n",
    "            \n",
    "            # Metrics\n",
    "            rmse = accuracy.rmse(predictions)\n",
    "            mae = accuracy.mae(predictions)\n",
    "            \n",
    "            results[cluster] = {\n",
    "                'RMSE': rmse,\n",
    "                'MAE': mae\n",
    "            }\n",
    "        \n",
    "        self.results['SVD'] = results\n",
    "        return results\n",
    "\n",
    "    def ncf_evaluation(self, n_latent_factors=16):\n",
    "        \"\"\"Evaluate Neural Collaborative Filtering for each cluster\"\"\"\n",
    "        results = {}\n",
    "        \n",
    "        for cluster in self.data['cluster'].unique():\n",
    "            # Filter data for the current cluster\n",
    "            cluster_train_data = self.train_data[self.train_data['cluster'] == cluster]\n",
    "            cluster_test_data = self.test_data[self.test_data['cluster'] == cluster]\n",
    "            \n",
    "            if len(cluster_train_data) == 0 or len(cluster_test_data) == 0:\n",
    "                continue\n",
    "            \n",
    "            # Inputs\n",
    "            author_input = Input(shape=(1,))\n",
    "            hotel_input = Input(shape=(1,))\n",
    "            \n",
    "            # Embeddings\n",
    "            n_author = len(self.label_encoder_author.classes_)\n",
    "            n_hotel = len(self.label_encoder_hotel.classes_)\n",
    "            \n",
    "            author_embedding = Embedding(input_dim=n_author, output_dim=n_latent_factors)(author_input)\n",
    "            author_flatten = Flatten()(author_embedding)\n",
    "            \n",
    "            hotel_embedding = Embedding(input_dim=n_hotel, output_dim=n_latent_factors)(hotel_input)\n",
    "            hotel_flatten = Flatten()(hotel_embedding)\n",
    "            \n",
    "            # Neural network structure\n",
    "            element_product = Multiply()([author_flatten, hotel_flatten])\n",
    "            concat = Concatenate()([author_flatten, hotel_flatten, element_product])\n",
    "            \n",
    "            dense_1 = Dense(128, activation='relu')(concat)\n",
    "            dropout_1 = Dropout(0.3)(dense_1)\n",
    "            dense_2 = Dense(64, activation='relu')(dropout_1)\n",
    "            dropout_2 = Dropout(0.3)(dense_2)\n",
    "            output = Dense(1, activation='linear')(dropout_2)\n",
    "            \n",
    "            # Model compilation\n",
    "            ncf_model = Model(inputs=[author_input, hotel_input], outputs=output)\n",
    "            ncf_model.compile(optimizer=Adam(learning_rate=0.0001), loss='mse')\n",
    "            \n",
    "            # Training\n",
    "            early_stopping = EarlyStopping(monitor='val_loss', patience=3, restore_best_weights=True)\n",
    "            ncf_model.fit(\n",
    "                [cluster_train_data['author_id'], cluster_train_data['hotel_id']],\n",
    "                cluster_train_data['rating'],\n",
    "                validation_data=([cluster_test_data['author_id'], cluster_test_data['hotel_id']], \n",
    "                                 cluster_test_data['rating']),\n",
    "                epochs=10, batch_size=64, callbacks=[early_stopping], verbose=0\n",
    "            )\n",
    "            \n",
    "            # Predictions and metrics\n",
    "            y_pred = ncf_model.predict([cluster_test_data['author_id'], cluster_test_data['hotel_id']])\n",
    "            y_pred_rounded = np.rint(y_pred).clip(1, 5)\n",
    "            \n",
    "            rmse = np.sqrt(mean_squared_error(cluster_test_data['rating'], y_pred))\n",
    "            mae = mean_absolute_error(cluster_test_data['rating'], y_pred)\n",
    "            accuracy_score_val = accuracy_score(cluster_test_data['rating'], y_pred_rounded)\n",
    "            \n",
    "            results[cluster] = {\n",
    "                'RMSE': rmse,\n",
    "                'MAE': mae,\n",
    "                'Accuracy': accuracy_score_val\n",
    "            }\n",
    "        \n",
    "        self.results['NCF'] = results\n",
    "        return results\n",
    "\n",
    "    def hybrid_evaluation(self, n_latent_factors=8):\n",
    "        \"\"\"Evaluate Hybrid Recommendation Model for each cluster\"\"\"\n",
    "        results = {}\n",
    "        \n",
    "        for cluster in self.data['cluster'].unique():\n",
    "            # Filter data for the current cluster\n",
    "            cluster_train_data = self.train_data[self.train_data['cluster'] == cluster]\n",
    "            cluster_test_data = self.test_data[self.test_data['cluster'] == cluster]\n",
    "            \n",
    "            if len(cluster_train_data) == 0 or len(cluster_test_data) == 0:\n",
    "                continue\n",
    "            \n",
    "            # Inputs\n",
    "            n_author = len(self.label_encoder_author.classes_)\n",
    "            n_hotel = len(self.label_encoder_hotel.classes_)\n",
    "            \n",
    "            author_input = Input(shape=(1,))\n",
    "            hotel_input = Input(shape=(1,))\n",
    "            senti_score_input = Input(shape=(1,))\n",
    "            year_input = Input(shape=(1,))\n",
    "            \n",
    "            # Embeddings\n",
    "            author_embedding = Embedding(input_dim=n_author, output_dim=n_latent_factors)(author_input)\n",
    "            author_flatten = Flatten()(author_embedding)\n",
    "            \n",
    "            hotel_embedding = Embedding(input_dim=n_hotel, output_dim=n_latent_factors)(hotel_input)\n",
    "            hotel_flatten = Flatten()(hotel_embedding)\n",
    "            \n",
    "            # Hybrid model structure\n",
    "            element_product = Multiply()([author_flatten, hotel_flatten])\n",
    "            concat = Concatenate()([author_flatten, hotel_flatten, element_product, senti_score_input, year_input])\n",
    "            \n",
    "            dense_1 = Dense(128, activation='relu')(concat)\n",
    "            dropout_1 = Dropout(0.3)(dense_1)\n",
    "            dense_2 = Dense(64, activation='relu')(dropout_1)\n",
    "            dropout_2 = Dropout(0.3)(dense_2)\n",
    "            output = Dense(1, activation='linear')(dropout_2)\n",
    "            \n",
    "            # Model compilation\n",
    "            hybrid_model = Model(inputs=[author_input, hotel_input, senti_score_input, year_input], outputs=output)\n",
    "            hybrid_model.compile(optimizer=Adam(learning_rate=0.0001), loss='mse')\n",
    "            \n",
    "            # Training\n",
    "            early_stopping = EarlyStopping(monitor='val_loss', patience=3, restore_best_weights=True)\n",
    "            hybrid_model.fit(\n",
    "                [cluster_train_data['author_id'], \n",
    "                 cluster_train_data['hotel_id'], \n",
    "                 cluster_train_data['senti_score'], \n",
    "                 cluster_train_data['year']],\n",
    "                cluster_train_data['rating'],\n",
    "                validation_data=([cluster_test_data['author_id'], \n",
    "                                  cluster_test_data['hotel_id'], \n",
    "                                  cluster_test_data['senti_score'], \n",
    "                                  cluster_test_data['year']],\n",
    "                                 cluster_test_data['rating']),\n",
    "                epochs=10, batch_size=64, callbacks=[early_stopping], verbose=0\n",
    "            )\n",
    "            \n",
    "            # Predictions and metrics\n",
    "            y_pred = hybrid_model.predict([\n",
    "                cluster_test_data['author_id'], \n",
    "                cluster_test_data['hotel_id'], \n",
    "                cluster_test_data['senti_score'], \n",
    "                cluster_test_data['year']\n",
    "            ])\n",
    "            y_pred_rounded = np.rint(y_pred).clip(1, 5)\n",
    "            \n",
    "            rmse = np.sqrt(mean_squared_error(cluster_test_data['rating'], y_pred))\n",
    "            mae = mean_absolute_error(cluster_test_data['rating'], y_pred)\n",
    "            accuracy_score_val = accuracy_score(cluster_test_data['rating'], y_pred_rounded)\n",
    "            \n",
    "            results[cluster] = {\n",
    "                'RMSE': rmse,\n",
    "                'MAE': mae,\n",
    "                'Accuracy': accuracy_score_val\n",
    "            }\n",
    "        \n",
    "        self.results['Hybrid'] = results\n",
    "        return results\n",
    "\n",
    "    def plot_comparative_metrics(self):\n",
    "        \"\"\"Plot comparative metrics across clusters for different models\"\"\"\n",
    "        plt.figure(figsize=(15, 5))\n",
    "        \n",
    "        # RMSE Comparison\n",
    "        plt.subplot(131)\n",
    "        rmse_data = {\n",
    "            model: [metrics['RMSE'] for metrics in results.values()]\n",
    "            for model, results in self.results.items()\n",
    "        }\n",
    "        plt.boxplot(list(rmse_data.values()), labels=list(rmse_data.keys()))\n",
    "        plt.title('RMSE Comparison')\n",
    "        plt.ylabel('RMSE')\n",
    "        \n",
    "        # MAE Comparison\n",
    "        plt.subplot(132)\n",
    "        mae_data = {\n",
    "            model: [metrics['MAE'] for metrics in results.values()]\n",
    "            for model, results in self.results.items()\n",
    "        }\n",
    "        plt.boxplot(list(mae_data.values()), labels=list(mae_data.keys()))\n",
    "        plt.title('MAE Comparison')\n",
    "        plt.ylabel('MAE')\n",
    "        \n",
    "        # Accuracy Comparison (for models that support it)\n",
    "        plt.subplot(133)\n",
    "        accuracy_data = {\n",
    "            model: [metrics.get('Accuracy', 0) for metrics in results.values()]\n",
    "            for model, results in self.results.items()\n",
    "            if 'Accuracy' in list(results.values())[0]\n",
    "        }\n",
    "        plt.boxplot(list(accuracy_data.values()), labels=list(accuracy_data.keys()))\n",
    "        plt.title('Accuracy Comparison')\n",
    "        plt.ylabel('Accuracy')\n",
    "        \n",
    "        plt.tight_layout()\n",
    "        plt.show()"
   ]
  },
  {
   "cell_type": "code",
   "execution_count": 10,
   "metadata": {},
   "outputs": [],
   "source": [
    "# Usage\n",
    "path = \"../dataset/HotelRec.csv\"\n",
    "analysis = HotelRecommendationAnalysis(path)"
   ]
  },
  {
   "cell_type": "code",
   "execution_count": null,
   "metadata": {},
   "outputs": [
    {
     "name": "stdout",
     "output_type": "stream",
     "text": [
      "RMSE: 0.9397\n",
      "MAE:  0.7275\n",
      "RMSE: 0.7989\n",
      "MAE:  0.5877\n",
      "RMSE: 0.8294\n",
      "MAE:  0.6310\n"
     ]
    },
    {
     "data": {
      "text/plain": [
       "{2: {'RMSE': 0.9396521789182896, 'MAE': 0.7274613586221939},\n",
       " 1: {'RMSE': 0.7989498730810167, 'MAE': 0.587727521715593},\n",
       " 0: {'RMSE': 0.8293576647367522, 'MAE': 0.6310178614979198}}"
      ]
     },
     "execution_count": 11,
     "metadata": {},
     "output_type": "execute_result"
    }
   ],
   "source": [
    "analysis.svd_evaluation()"
   ]
  },
  {
   "cell_type": "code",
   "execution_count": 12,
   "metadata": {},
   "outputs": [
    {
     "name": "stdout",
     "output_type": "stream",
     "text": [
      "\u001b[1m22979/22979\u001b[0m \u001b[32m━━━━━━━━━━━━━━━━━━━━\u001b[0m\u001b[37m\u001b[0m \u001b[1m7s\u001b[0m 314us/step\n",
      "\u001b[1m28298/28298\u001b[0m \u001b[32m━━━━━━━━━━━━━━━━━━━━\u001b[0m\u001b[37m\u001b[0m \u001b[1m9s\u001b[0m 312us/step\n",
      "\u001b[1m21734/21734\u001b[0m \u001b[32m━━━━━━━━━━━━━━━━━━━━\u001b[0m\u001b[37m\u001b[0m \u001b[1m7s\u001b[0m 315us/step\n"
     ]
    },
    {
     "data": {
      "text/plain": [
       "{2: {'RMSE': 0.9402750346159338,\n",
       "  'MAE': 0.7318128321090027,\n",
       "  'Accuracy': 0.4216238783886331},\n",
       " 1: {'RMSE': 0.800082126405072,\n",
       "  'MAE': 0.5934303202120103,\n",
       "  'Accuracy': 0.5397128298911351},\n",
       " 0: {'RMSE': 0.8275546919914023,\n",
       "  'MAE': 0.6363810303036488,\n",
       "  'Accuracy': 0.4883553065781698}}"
      ]
     },
     "execution_count": 12,
     "metadata": {},
     "output_type": "execute_result"
    }
   ],
   "source": [
    "analysis.ncf_evaluation()"
   ]
  },
  {
   "cell_type": "code",
   "execution_count": 13,
   "metadata": {},
   "outputs": [
    {
     "name": "stdout",
     "output_type": "stream",
     "text": [
      "\u001b[1m22979/22979\u001b[0m \u001b[32m━━━━━━━━━━━━━━━━━━━━\u001b[0m\u001b[37m\u001b[0m \u001b[1m9s\u001b[0m 406us/step\n",
      "\u001b[1m28298/28298\u001b[0m \u001b[32m━━━━━━━━━━━━━━━━━━━━\u001b[0m\u001b[37m\u001b[0m \u001b[1m10s\u001b[0m 355us/step\n",
      "\u001b[1m21734/21734\u001b[0m \u001b[32m━━━━━━━━━━━━━━━━━━━━\u001b[0m\u001b[37m\u001b[0m \u001b[1m8s\u001b[0m 349us/step\n"
     ]
    },
    {
     "data": {
      "text/plain": [
       "{2: {'RMSE': 0.7994644429061314,\n",
       "  'MAE': 0.6313896258512014,\n",
       "  'Accuracy': 0.47480845230550806},\n",
       " 1: {'RMSE': 0.6971998802555467,\n",
       "  'MAE': 0.5397281891867383,\n",
       "  'Accuracy': 0.579812175464868},\n",
       " 0: {'RMSE': 0.7404436194019246,\n",
       "  'MAE': 0.5859787859503516,\n",
       "  'Accuracy': 0.5039275767218286}}"
      ]
     },
     "execution_count": 13,
     "metadata": {},
     "output_type": "execute_result"
    }
   ],
   "source": [
    "analysis.hybrid_evaluation()"
   ]
  },
  {
   "cell_type": "code",
   "execution_count": null,
   "metadata": {},
   "outputs": [
    {
     "name": "stderr",
     "output_type": "stream",
     "text": [
      "/var/folders/r2/3wggt_vs5jncfc0txj7dtys80000gn/T/ipykernel_45291/1676530710.py:214: MatplotlibDeprecationWarning: The 'labels' parameter of boxplot() has been renamed 'tick_labels' since Matplotlib 3.9; support for the old name will be dropped in 3.11.\n",
      "  plt.boxplot(list(rmse_data.values()), labels=list(rmse_data.keys()))\n",
      "/var/folders/r2/3wggt_vs5jncfc0txj7dtys80000gn/T/ipykernel_45291/1676530710.py:224: MatplotlibDeprecationWarning: The 'labels' parameter of boxplot() has been renamed 'tick_labels' since Matplotlib 3.9; support for the old name will be dropped in 3.11.\n",
      "  plt.boxplot(list(mae_data.values()), labels=list(mae_data.keys()))\n",
      "/var/folders/r2/3wggt_vs5jncfc0txj7dtys80000gn/T/ipykernel_45291/1676530710.py:235: MatplotlibDeprecationWarning: The 'labels' parameter of boxplot() has been renamed 'tick_labels' since Matplotlib 3.9; support for the old name will be dropped in 3.11.\n",
      "  plt.boxplot(list(accuracy_data.values()), labels=list(accuracy_data.keys()))\n"
     ]
    },
    {
     "data": {
      "image/png": "[encoded data removed]",
      "text/plain": [
       "<Figure size 1500x500 with 3 Axes>"
      ]
     },
     "metadata": {},
     "output_type": "display_data"
    }
   ],
   "source": [
    "analysis.plot_comparative_metrics()"
   ]
  },
  {
   "cell_type": "code",
   "execution_count": null,
   "metadata": {},
   "outputs": [
    {
     "name": "stdout",
     "output_type": "stream",
     "text": [
      "SVD Results per Cluster:\n",
      "Cluster 2: {'RMSE': 0.9396521789182896, 'MAE': 0.7274613586221939}\n",
      "Cluster 1: {'RMSE': 0.7989498730810167, 'MAE': 0.587727521715593}\n",
      "Cluster 0: {'RMSE': 0.8293576647367522, 'MAE': 0.6310178614979198}\n",
      "\n",
      "NCF Results per Cluster:\n",
      "Cluster 2: {'RMSE': 0.9402750346159338, 'MAE': 0.7318128321090027, 'Accuracy': 0.4216238783886331}\n",
      "Cluster 1: {'RMSE': 0.800082126405072, 'MAE': 0.5934303202120103, 'Accuracy': 0.5397128298911351}\n",
      "Cluster 0: {'RMSE': 0.8275546919914023, 'MAE': 0.6363810303036488, 'Accuracy': 0.4883553065781698}\n",
      "\n",
      "Hybrid Results per Cluster:\n",
      "Cluster 2: {'RMSE': 0.7994644429061314, 'MAE': 0.6313896258512014, 'Accuracy': 0.47480845230550806}\n",
      "Cluster 1: {'RMSE': 0.6971998802555467, 'MAE': 0.5397281891867383, 'Accuracy': 0.579812175464868}\n",
      "Cluster 0: {'RMSE': 0.7404436194019246, 'MAE': 0.5859787859503516, 'Accuracy': 0.5039275767218286}\n"
     ]
    }
   ],
   "source": [
    "print(\"SVD Results per Cluster:\")\n",
    "for cluster, metrics in analysis.results['SVD'].items():\n",
    "    print(f\"Cluster {cluster}: {metrics}\")\n",
    "\n",
    "print(\"\\nNCF Results per Cluster:\")\n",
    "for cluster, metrics in analysis.results['NCF'].items():\n",
    "    print(f\"Cluster {cluster}: {metrics}\")\n",
    "\n",
    "print(\"\\nHybrid Results per Cluster:\")\n",
    "for cluster, metrics in analysis.results['Hybrid'].items():\n",
    "    print(f\"Cluster {cluster}: {metrics}\")"
   ]
  }
 ],
 "metadata": {
  "accelerator": "GPU",
  "colab": {
   "gpuType": "T4",
   "provenance": []
  },
  "kernelspec": {
   "display_name": "Python 3",
   "language": "python",
   "name": "python3"
  },
  "language_info": {
   "codemirror_mode": {
    "name": "ipython",
    "version": 3
   },
   "file_extension": ".py",
   "mimetype": "text/x-python",
   "name": "python",
   "nbconvert_exporter": "python",
   "pygments_lexer": "ipython3",
   "version": "3.12.1"
  }
 },
 "nbformat": 4,
 "nbformat_minor": 0
}
